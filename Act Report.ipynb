{
 "cells": [
  {
   "cell_type": "markdown",
   "metadata": {},
   "source": [
    "# Twitter Analysis\n",
    "\n",
    "**In our analysis we examined the following questions**\n",
    "\n",
    "1. **Do the ratings correlate to higher retweet_count and favorite_count?**\n",
    "\n",
    "2. **What are the most popular words used to describe the dogs?**\n",
    "\n",
    "3. **Do retweets and reply tos get more favorites than orginal content?**\n",
    "\n",
    "4. **What predicted dogs get the most retweets and favorites?**\n",
    "\n",
    "**We will take a look at each of these one by one and record our insights.**\n",
    "\n",
    "### Question 1: Do the ratings correlate to higher retweet_count and favorite_count?\n",
    "\n",
    "![Ratings VS Retweet and Favorite Count](overall_rating_vs_cnt.png)\n",
    "\n",
    "**The plot above is regplot of rating vs the retweet and favorite counts.**\n",
    "\n",
    "\n",
    "**Based on the above plot our first insight is that ratings do not really have much correlation with retweet_count and favorite_count.  This makes sense since most of the ratings are for fun because [they are good dogs, Brent](https://knowyourmeme.com/memes/theyre-good-dogs-brent).**\n",
    "\n",
    "### Question 2: What are the most popular words used to describe the dogs?\n",
    "\n",
    "![Twitter Dog Word Cloud](word_cloud.png)\n",
    "\n",
    "**Above is a word cloud of all the words used in the dog rating tweets (without some stop words like a the etc.).**\n",
    "\n",
    "**It is clear from the word cloud that pup and pupper are some of the most popular words used in the dog ratings.  Also the word \"meet\" is used quite often.  It solidifies the conclusion that the @WeRateDogs is just a fun way to introduce cute picutes of dogs to people.**\n",
    "\n",
    "### Question 3: Do retweets and reply tos get more favorites than orginal content?\n",
    "\n",
    "![Replys, Retweets, Original Content](median_counts.png)\n",
    "\n",
    "**The above plot is a bar graph with two bars (one for median retweet count and one for median favorite count) for each of the type of tweets.**\n",
    "\n",
    "**From the above plot, it seems like retweets do not earn favorites, since there are 0 favorites for all retweeted tweets.  This is most likely by design for Twitter, the favorites might get added to the original tweet.  You can also tell that original content and retweets get retweeted much more than replys and that replys generally have lower favorite_counts and retweet_counts than original content.  Note that there are much fewer examples of replied tweets and retweeted tweets so the differences may not be statistically significant.**\n",
    "\n",
    "### Question 4: What predicted dogs get the most retweets and favorites?\n",
    "\n",
    "![Retweet and Favorite counts for predicted dogs](count_by_dogbred.png)\n",
    "\n",
    "**The above plot is a horizontal bar graph of the top 10 predicted dogs and their median retweet counts and favorite counts.**\n",
    "\n",
    "**From the above plot, we can tell that the top 3 predicted dog breeds in terms of retweet count and favorite count are samoyeds, golden retrievers and chows.  Some of these breeds were predicted much fewer times than others so we take this information with a grain of salt since we do not have a lot of data for these breeds.**\n",
    "\n",
    "### Conclusion\n",
    "\n",
    "**Overall the @WeRateDogs twitter handles has a fun way of showing off dogs and their cuteness with their unorthodox rating system and overall attitude.  They use quite few dog puns and each tweet is more of an introduction to a dog than a critique.  Original content in general will get more retweets and favorites than replied ratings.  We also conclude in this case, that retweeted content will have more retweets than original replied or original content on average.  We take these above insights with a grain of salt since we do not have quite as much data on replied tweets and retweeted tweets as we do on the original tweets that @WeRateDogs has done.  We also concluded that predicting a dog as a samoyed, golden retriever and chow in general correlates to higher retweet counts and favorite counts.  Note: these are very fluffy breeds so you could say fluffiness correlates to more favorites.**"
   ]
  },
  {
   "cell_type": "code",
   "execution_count": null,
   "metadata": {},
   "outputs": [],
   "source": []
  }
 ],
 "metadata": {
  "kernelspec": {
   "display_name": "Python 3",
   "language": "python",
   "name": "python3"
  },
  "language_info": {
   "codemirror_mode": {
    "name": "ipython",
    "version": 3
   },
   "file_extension": ".py",
   "mimetype": "text/x-python",
   "name": "python",
   "nbconvert_exporter": "python",
   "pygments_lexer": "ipython3",
   "version": "3.6.3"
  }
 },
 "nbformat": 4,
 "nbformat_minor": 2
}
